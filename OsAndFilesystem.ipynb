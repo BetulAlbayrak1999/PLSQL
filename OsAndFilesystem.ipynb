{
 "cells": [
  {
   "cell_type": "code",
   "execution_count": 122,
   "metadata": {},
   "outputs": [],
   "source": [
    "import os\n",
    "import urllib.request\n",
    "import pandas as pd\n",
    "import math"
   ]
  },
  {
   "cell_type": "code",
   "execution_count": 3,
   "metadata": {},
   "outputs": [
    {
     "data": {
      "text/plain": [
       "'c:\\\\Users\\\\Omen\\\\Documents\\\\python for Data Engineer'"
      ]
     },
     "execution_count": 3,
     "metadata": {},
     "output_type": "execute_result"
    }
   ],
   "source": [
    "os.getcwd()"
   ]
  },
  {
   "cell_type": "code",
   "execution_count": 23,
   "metadata": {},
   "outputs": [
    {
     "data": {
      "text/plain": [
       "['All Users', 'Default', 'Default User', 'desktop.ini', 'Omen', 'Public']"
      ]
     },
     "execution_count": 23,
     "metadata": {},
     "output_type": "execute_result"
    }
   ],
   "source": [
    "os.listdir(\"/Users\")"
   ]
  },
  {
   "cell_type": "code",
   "execution_count": 24,
   "metadata": {},
   "outputs": [
    {
     "data": {
      "text/plain": [
       "True"
      ]
     },
     "execution_count": 24,
     "metadata": {},
     "output_type": "execute_result"
    }
   ],
   "source": [
    "os.makedirs(\"./data\", exist_ok=True)\n",
    "\"data\" in os.listdir(\".\")"
   ]
  },
  {
   "cell_type": "code",
   "execution_count": 26,
   "metadata": {},
   "outputs": [],
   "source": [
    "url1= \"https://drive.google.com/file/d/1yYloUjvh3fJDbqvSDSjjSgZfC9rtrcNl/view?usp=sharing\"\n",
    "url2= \"https://drive.google.com/file/d/1sTEDF9OH6JYvQp3x4ZrjJGQpPN5Q_Iv4/view?usp=sharing\"\n",
    "url3= \"https://drive.google.com/file/d/18iQ9JSFoJ8W5Q28ICcxXpJWxbFW8Kmh5/view?usp=sharing\""
   ]
  },
  {
   "cell_type": "code",
   "execution_count": 27,
   "metadata": {},
   "outputs": [
    {
     "data": {
      "text/plain": [
       "('./data/sample-3.txt', <http.client.HTTPMessage at 0x2aca4b17cd0>)"
      ]
     },
     "execution_count": 27,
     "metadata": {},
     "output_type": "execute_result"
    }
   ],
   "source": [
    "urllib.request.urlretrieve(url1, \"./data/sample-1.txt\")\n",
    "urllib.request.urlretrieve(url2, \"./data/sample-2.txt\")\n",
    "urllib.request.urlretrieve(url3, \"./data/sample-3.txt\")\n"
   ]
  },
  {
   "cell_type": "code",
   "execution_count": 28,
   "metadata": {},
   "outputs": [
    {
     "data": {
      "text/plain": [
       "['sample-1.txt', 'sample-2.txt', 'sample-3.txt']"
      ]
     },
     "execution_count": 28,
     "metadata": {},
     "output_type": "execute_result"
    }
   ],
   "source": [
    "os.listdir(\"./data\")"
   ]
  },
  {
   "cell_type": "code",
   "execution_count": 39,
   "metadata": {},
   "outputs": [],
   "source": [
    "file1 = open(\"./data/sample-1.txt\", mode=\"r\")"
   ]
  },
  {
   "cell_type": "code",
   "execution_count": null,
   "metadata": {},
   "outputs": [],
   "source": [
    "file1_content=file1.read()\n",
    "print(file1_content)"
   ]
  },
  {
   "cell_type": "code",
   "execution_count": 41,
   "metadata": {},
   "outputs": [],
   "source": [
    "file1.close()"
   ]
  },
  {
   "cell_type": "code",
   "execution_count": null,
   "metadata": {},
   "outputs": [],
   "source": [
    "with open (\"./data/sample-2.txt\", \"r\") as file2:\n",
    "    file2_contents=file2.read()\n",
    "    print(file2_contents)\n",
    "    "
   ]
  },
  {
   "cell_type": "code",
   "execution_count": null,
   "metadata": {},
   "outputs": [
    {
     "data": {
      "text/plain": [
       "26"
      ]
     },
     "execution_count": 103,
     "metadata": {},
     "output_type": "execute_result"
    }
   ],
   "source": [
    "#converted to a method\n",
    "\"\"\"with open (\"./data/sample-3.txt\", \"r\") as file3:\n",
    "    file3_lines=file3.readlines()\n",
    "    \n",
    "file3_lines\n",
    "len(file3_lines)\"\"\""
   ]
  },
  {
   "cell_type": "markdown",
   "metadata": {},
   "source": [
    "### getFileLines Method"
   ]
  },
  {
   "cell_type": "code",
   "execution_count": 111,
   "metadata": {},
   "outputs": [],
   "source": [
    "#getFileLines method\n",
    "def getFileLines(path):\n",
    "    with open (path, \"r\") as file:\n",
    "        fileLines=file.readlines()\n",
    "    return fileLines"
   ]
  },
  {
   "cell_type": "code",
   "execution_count": null,
   "metadata": {},
   "outputs": [
    {
     "data": {
      "text/plain": [
       "'amount;duration;rate;down_payment'"
      ]
     },
     "execution_count": 104,
     "metadata": {},
     "output_type": "execute_result"
    }
   ],
   "source": [
    "#converted to a method\n",
    "#file3_lines[0].strip()"
   ]
  },
  {
   "cell_type": "code",
   "execution_count": null,
   "metadata": {},
   "outputs": [],
   "source": [
    "#converted to a method\n",
    "#file3_lines=file3_lines[1:]"
   ]
  },
  {
   "cell_type": "markdown",
   "metadata": {},
   "source": [
    "### parseHeader Method"
   ]
  },
  {
   "cell_type": "code",
   "execution_count": 112,
   "metadata": {},
   "outputs": [],
   "source": [
    "def parseHeader(fileLines):\n",
    "   fileLines=fileLines[1:] \n",
    "   return fileLines\n",
    "    "
   ]
  },
  {
   "cell_type": "code",
   "execution_count": null,
   "metadata": {},
   "outputs": [
    {
     "name": "stdout",
     "output_type": "stream",
     "text": [
      "['30.00;68.00;62.00;48.00', '74.00;44.00;20.00;90.00', '13.00;49.00;95.00;24.00', '39.00;19.00;67.00;12.00', '11.00;62.00;68.00;66.00', '20.00;4.00;60.00;23.00', '57.00;99.00;52.00;88.00', '51.00;35.00;46.00;2.00', '23.00;69.00;71.00;44.00', '40.00;27.00;35.00;94.00', '67.00;50.00;1.00;4.00', '5.00;34.00;77.00;81.00', '8.00;96.00;10.00;84.00', '65.00;15.00;63.00;49.00', '7.00;25.00;16.00;59.00', '38.00;82.00;79.00;5.00', '37.00;46.00;34.00;47.00', '6.00;80.00;58.00;38.00', '31.00;48.00;36.00;41.00', '72.00;92.00;89.00;97.00', '2.00;29.00;15.00;75.00', '28.00;26.00;28.00;56.00', '93.00;76.00;78.00;92.00', '33.00;61.00;13.00;96.00', '75.00;90.00;64.00;80.00']\n"
     ]
    }
   ],
   "source": [
    "#converted to a method\n",
    "\"\"\"LinesWithoutChar=[]\n",
    "for line in file3_lines:\n",
    "    LinesWithoutChar.append(line.strip())\n",
    "print(LinesWithoutChar)\"\"\"\n"
   ]
  },
  {
   "cell_type": "markdown",
   "metadata": {},
   "source": [
    "### pasreValues Method"
   ]
  },
  {
   "cell_type": "code",
   "execution_count": 113,
   "metadata": {},
   "outputs": [],
   "source": [
    "def pasreValues(fileLines):\n",
    "    CleanedLines=[]\n",
    "    for line in fileLines:\n",
    "        CleanedLines.append(line.strip())\n",
    "    return CleanedLines\n",
    "    "
   ]
  },
  {
   "cell_type": "code",
   "execution_count": null,
   "metadata": {},
   "outputs": [],
   "source": [
    "#converted to a method\n",
    "\"\"\"listLines=[]\n",
    "for line in LinesWithoutChar:\n",
    "    listLines.append(line.split(\";\"))\n",
    "listLines\"\"\""
   ]
  },
  {
   "cell_type": "markdown",
   "metadata": {},
   "source": [
    "### splitLinesToList Method"
   ]
  },
  {
   "cell_type": "code",
   "execution_count": 114,
   "metadata": {},
   "outputs": [],
   "source": [
    "def splitLinesToList(fileLines, symbol):\n",
    "    splitedListLines=[]\n",
    "    for line in fileLines:\n",
    "        splitedListLines.append(line.split(symbol))\n",
    "    return splitedListLines"
   ]
  },
  {
   "cell_type": "code",
   "execution_count": null,
   "metadata": {},
   "outputs": [
    {
     "name": "stdout",
     "output_type": "stream",
     "text": [
      "[{'amount': '30.00', 'duration': '68.00', 'rate': '62.00', 'down_payment': '48.00'}, {'amount': '74.00', 'duration': '44.00', 'rate': '20.00', 'down_payment': '90.00'}, {'amount': '13.00', 'duration': '49.00', 'rate': '95.00', 'down_payment': '24.00'}, {'amount': '39.00', 'duration': '19.00', 'rate': '67.00', 'down_payment': '12.00'}, {'amount': '11.00', 'duration': '62.00', 'rate': '68.00', 'down_payment': '66.00'}, {'amount': '20.00', 'duration': '4.00', 'rate': '60.00', 'down_payment': '23.00'}, {'amount': '57.00', 'duration': '99.00', 'rate': '52.00', 'down_payment': '88.00'}, {'amount': '51.00', 'duration': '35.00', 'rate': '46.00', 'down_payment': '2.00'}, {'amount': '23.00', 'duration': '69.00', 'rate': '71.00', 'down_payment': '44.00'}, {'amount': '40.00', 'duration': '27.00', 'rate': '35.00', 'down_payment': '94.00'}, {'amount': '67.00', 'duration': '50.00', 'rate': '1.00', 'down_payment': '4.00'}, {'amount': '5.00', 'duration': '34.00', 'rate': '77.00', 'down_payment': '81.00'}, {'amount': '8.00', 'duration': '96.00', 'rate': '10.00', 'down_payment': '84.00'}, {'amount': '65.00', 'duration': '15.00', 'rate': '63.00', 'down_payment': '49.00'}, {'amount': '7.00', 'duration': '25.00', 'rate': '16.00', 'down_payment': '59.00'}, {'amount': '38.00', 'duration': '82.00', 'rate': '79.00', 'down_payment': '5.00'}, {'amount': '37.00', 'duration': '46.00', 'rate': '34.00', 'down_payment': '47.00'}, {'amount': '6.00', 'duration': '80.00', 'rate': '58.00', 'down_payment': '38.00'}, {'amount': '31.00', 'duration': '48.00', 'rate': '36.00', 'down_payment': '41.00'}, {'amount': '72.00', 'duration': '92.00', 'rate': '89.00', 'down_payment': '97.00'}, {'amount': '2.00', 'duration': '29.00', 'rate': '15.00', 'down_payment': '75.00'}, {'amount': '28.00', 'duration': '26.00', 'rate': '28.00', 'down_payment': '56.00'}, {'amount': '93.00', 'duration': '76.00', 'rate': '78.00', 'down_payment': '92.00'}, {'amount': '33.00', 'duration': '61.00', 'rate': '13.00', 'down_payment': '96.00'}, {'amount': '75.00', 'duration': '90.00', 'rate': '64.00', 'down_payment': '80.00'}]\n"
     ]
    }
   ],
   "source": [
    "#converted to a method\n",
    "\"\"\"listOfDicts=[]\n",
    "\n",
    "for line in listLines:\n",
    "    dictLine={}\n",
    "    dictLine[\"amount\"]=line[0]\n",
    "    dictLine[\"duration\"]=line[1]\n",
    "    dictLine[\"rate\"]=line[2]\n",
    "    dictLine[\"down_payment\"]=line[3]\n",
    "    listOfDicts.append(dictLine)\n",
    "    \n",
    "print(listOfDicts)\"\"\""
   ]
  },
  {
   "cell_type": "markdown",
   "metadata": {},
   "source": [
    "### getListOfDicts Method"
   ]
  },
  {
   "cell_type": "code",
   "execution_count": 134,
   "metadata": {},
   "outputs": [],
   "source": [
    "def getListOfDicts(listLines, keys):\n",
    "    listOfDicts=[]\n",
    "    for line in listLines:\n",
    "        dictLine={}\n",
    "        dictLine[keys[0]]=float(line[0])\n",
    "        dictLine[keys[1]]=float(line[1])\n",
    "        dictLine[keys[2]]=float(line[2])\n",
    "        dictLine[keys[3]]=float(line[3])\n",
    "        listOfDicts.append(dictLine)\n",
    "    return listOfDicts"
   ]
  },
  {
   "cell_type": "code",
   "execution_count": 135,
   "metadata": {},
   "outputs": [
    {
     "name": "stdout",
     "output_type": "stream",
     "text": [
      "[{'amount': 96.0, 'duration': 47.0, 'rate': 65.0, 'down_payment': 44.0}, {'amount': 40.0, 'duration': 90.0, 'rate': 0.0, 'down_payment': 9.0}, {'amount': 29.0, 'duration': 48.0, 'rate': 21.0, 'down_payment': 40.0}, {'amount': 57.0, 'duration': 32.0, 'rate': 14.0, 'down_payment': 2.0}, {'amount': 20.0, 'duration': 75.0, 'rate': 59.0, 'down_payment': 26.0}, {'amount': 35.0, 'duration': 64.0, 'rate': 57.0, 'down_payment': 69.0}, {'amount': 19.0, 'duration': 73.0, 'rate': 52.0, 'down_payment': 60.0}, {'amount': 0.0, 'duration': 26.0, 'rate': 53.0, 'down_payment': 88.0}, {'amount': 65.0, 'duration': 99.0, 'rate': 84.0, 'down_payment': 67.0}, {'amount': 89.0, 'duration': 13.0, 'rate': 49.0, 'down_payment': 73.0}, {'amount': 74.0, 'duration': 87.0, 'rate': 90.0, 'down_payment': 29.0}, {'amount': 25.0, 'duration': 56.0, 'rate': 55.0, 'down_payment': 6.0}, {'amount': 28.0, 'duration': 69.0, 'rate': 68.0, 'down_payment': 12.0}, {'amount': 30.0, 'duration': 5.0, 'rate': 79.0, 'down_payment': 54.0}, {'amount': 15.0, 'duration': 79.0, 'rate': 92.0, 'down_payment': 82.0}, {'amount': 92.0, 'duration': 7.0, 'rate': 72.0, 'down_payment': 96.0}, {'amount': 18.0, 'duration': 51.0, 'rate': 91.0, 'down_payment': 87.0}, {'amount': 61.0, 'duration': 97.0, 'rate': 99.0, 'down_payment': 16.0}, {'amount': 44.0, 'duration': 23.0, 'rate': 15.0, 'down_payment': 94.0}, {'amount': 63.0, 'duration': 78.0, 'rate': 10.0, 'down_payment': 31.0}, {'amount': 16.0, 'duration': 60.0, 'rate': 97.0, 'down_payment': 71.0}, {'amount': 54.0, 'duration': 10.0, 'rate': 47.0, 'down_payment': 95.0}, {'amount': 41.0, 'duration': 31.0, 'rate': 83.0, 'down_payment': 89.0}, {'amount': 67.0, 'duration': 6.0, 'rate': 22.0, 'down_payment': 28.0}, {'amount': 58.0, 'duration': 2.0, 'rate': 56.0, 'down_payment': 81.0}]\n"
     ]
    }
   ],
   "source": [
    "#converted to a method\n",
    "\n",
    "path= \"./data/sample-2.txt\"\n",
    "keys= [\"amount\", \"duration\", \"rate\", \"down_payment\"]\n",
    "fileLines= getFileLines(path)\n",
    "fileLinesWithoutHeader = parseHeader(fileLines)\n",
    "cleanedFileLines = pasreValues(fileLinesWithoutHeader)\n",
    "splitedListLines = splitLinesToList(cleanedFileLines, \";\")\n",
    "result = getListOfDicts(splitedListLines, keys)\n",
    "print(result)"
   ]
  },
  {
   "cell_type": "markdown",
   "metadata": {},
   "source": [
    "### readFile Method (contains all previos methods)"
   ]
  },
  {
   "cell_type": "code",
   "execution_count": 136,
   "metadata": {},
   "outputs": [],
   "source": [
    "def readFile(path):\n",
    "    keys= [\"amount\", \"duration\", \"rate\", \"down_payment\"]\n",
    "    fileLines= getFileLines(path)\n",
    "    fileLinesWithoutHeader = parseHeader(fileLines)\n",
    "    cleanedFileLines = pasreValues(fileLinesWithoutHeader)\n",
    "    splitedListLines = splitLinesToList(cleanedFileLines, \";\")\n",
    "    result = getListOfDicts(splitedListLines, keys)\n",
    "    return result"
   ]
  },
  {
   "cell_type": "code",
   "execution_count": null,
   "metadata": {},
   "outputs": [],
   "source": [
    "loans = readFile(\"./data/sample-2.txt\")\n",
    "loans"
   ]
  },
  {
   "cell_type": "markdown",
   "metadata": {},
   "source": [
    "### Compute EMI and Add to the File"
   ]
  },
  {
   "cell_type": "code",
   "execution_count": 180,
   "metadata": {},
   "outputs": [],
   "source": [
    "def loan_emi(amount, duration, rate, down_payment=0):\n",
    "    \"\"\"\n",
    "    Calculate EMI (Equated Monthly Installment) for a loan.\n",
    "\n",
    "    :param amount: Loan amount (principal) in currency.\n",
    "    :param duration: Loan duration in months.\n",
    "    :param rate: Annual interest rate as a percentage.\n",
    "    :param down_payment: Optional down payment made at the start.\n",
    "    :return: EMI amount.\n",
    "    \"\"\"\n",
    "    # Adjust the amount after the down payment\n",
    "    loan_amount = amount - down_payment\n",
    "\n",
    "    # Convert annual interest rate to monthly and fraction\n",
    "    monthly_rate = (rate / 100) / 12\n",
    "    \n",
    "    # Calculate EMI\n",
    "    try:\n",
    "        emi = (loan_amount * monthly_rate * (1 + monthly_rate) ** duration) / \\\n",
    "              ((1 + monthly_rate) ** duration - 1)\n",
    "    except ZeroDivisionError:\n",
    "        if(duration==0):\n",
    "            emi = loan_amount / 1\n",
    "        # If the rate is 0, EMI is just the loan amount divided by duration\n",
    "        else:\n",
    "            emi = loan_amount / duration\n",
    "\n",
    "    return round(emi, 2)"
   ]
  },
  {
   "cell_type": "code",
   "execution_count": 181,
   "metadata": {},
   "outputs": [],
   "source": [
    "def computeEMI(loans):\n",
    "    for loan in loans:\n",
    "        loan[\"EMI\"]= loan_emi(loan[\"amount\"], loan[\"duration\"], loan[\"rate\"], loan[\"down_payment\"])\n",
    "    return loans\n"
   ]
  },
  {
   "cell_type": "code",
   "execution_count": 182,
   "metadata": {},
   "outputs": [
    {
     "data": {
      "text/plain": [
       "[{'amount': 72.0,\n",
       "  'duration': 5.0,\n",
       "  'rate': 13.0,\n",
       "  'down_payment': 81.0,\n",
       "  'EMI': -1.86},\n",
       " {'amount': 10.0,\n",
       "  'duration': 81.0,\n",
       "  'rate': 72.0,\n",
       "  'down_payment': 39.0,\n",
       "  'EMI': -1.76},\n",
       " {'amount': 19.0,\n",
       "  'duration': 86.0,\n",
       "  'rate': 69.0,\n",
       "  'down_payment': 76.0,\n",
       "  'EMI': -3.3},\n",
       " {'amount': 65.0,\n",
       "  'duration': 95.0,\n",
       "  'rate': 18.0,\n",
       "  'down_payment': 66.0,\n",
       "  'EMI': -0.02},\n",
       " {'amount': 21.0,\n",
       "  'duration': 66.0,\n",
       "  'rate': 14.0,\n",
       "  'down_payment': 26.0,\n",
       "  'EMI': -0.11},\n",
       " {'amount': 96.0,\n",
       "  'duration': 38.0,\n",
       "  'rate': 7.0,\n",
       "  'down_payment': 86.0,\n",
       "  'EMI': 0.29},\n",
       " {'amount': 55.0,\n",
       "  'duration': 16.0,\n",
       "  'rate': 8.0,\n",
       "  'down_payment': 19.0,\n",
       "  'EMI': 2.38},\n",
       " {'amount': 84.0,\n",
       "  'duration': 51.0,\n",
       "  'rate': 77.0,\n",
       "  'down_payment': 75.0,\n",
       "  'EMI': 0.6},\n",
       " {'amount': 67.0,\n",
       "  'duration': 50.0,\n",
       "  'rate': 23.0,\n",
       "  'down_payment': 22.0,\n",
       "  'EMI': 1.41},\n",
       " {'amount': 90.0,\n",
       "  'duration': 78.0,\n",
       "  'rate': 57.0,\n",
       "  'down_payment': 82.0,\n",
       "  'EMI': 0.39},\n",
       " {'amount': 22.0,\n",
       "  'duration': 42.0,\n",
       "  'rate': 95.0,\n",
       "  'down_payment': 38.0,\n",
       "  'EMI': -1.32},\n",
       " {'amount': 80.0,\n",
       "  'duration': 75.0,\n",
       "  'rate': 35.0,\n",
       "  'down_payment': 6.0,\n",
       "  'EMI': 2.44},\n",
       " {'amount': 49.0,\n",
       "  'duration': 73.0,\n",
       "  'rate': 27.0,\n",
       "  'down_payment': 41.0,\n",
       "  'EMI': 0.22},\n",
       " {'amount': 85.0,\n",
       "  'duration': 35.0,\n",
       "  'rate': 71.0,\n",
       "  'down_payment': 16.0,\n",
       "  'EMI': 4.71},\n",
       " {'amount': 2.0,\n",
       "  'duration': 6.0,\n",
       "  'rate': 79.0,\n",
       "  'down_payment': 93.0,\n",
       "  'EMI': -18.85},\n",
       " {'amount': 7.0,\n",
       "  'duration': 69.0,\n",
       "  'rate': 52.0,\n",
       "  'down_payment': 10.0,\n",
       "  'EMI': -0.14},\n",
       " {'amount': 24.0,\n",
       "  'duration': 54.0,\n",
       "  'rate': 91.0,\n",
       "  'down_payment': 63.0,\n",
       "  'EMI': -3.02},\n",
       " {'amount': 93.0,\n",
       "  'duration': 62.0,\n",
       "  'rate': 37.0,\n",
       "  'down_payment': 15.0,\n",
       "  'EMI': 2.84},\n",
       " {'amount': 9.0,\n",
       "  'duration': 15.0,\n",
       "  'rate': 84.0,\n",
       "  'down_payment': 70.0,\n",
       "  'EMI': -6.7},\n",
       " {'amount': 33.0,\n",
       "  'duration': 12.0,\n",
       "  'rate': 87.0,\n",
       "  'down_payment': 4.0,\n",
       "  'EMI': 3.7},\n",
       " {'amount': 36.0,\n",
       "  'duration': 37.0,\n",
       "  'rate': 30.0,\n",
       "  'down_payment': 34.0,\n",
       "  'EMI': 0.08},\n",
       " {'amount': 29.0,\n",
       "  'duration': 0.0,\n",
       "  'rate': 2.0,\n",
       "  'down_payment': 1.0,\n",
       "  'EMI': 28.0},\n",
       " {'amount': 41.0,\n",
       "  'duration': 47.0,\n",
       "  'rate': 80.0,\n",
       "  'down_payment': 54.0,\n",
       "  'EMI': -0.91},\n",
       " {'amount': 17.0,\n",
       "  'duration': 28.0,\n",
       "  'rate': 64.0,\n",
       "  'down_payment': 0.0,\n",
       "  'EMI': 1.18},\n",
       " {'amount': 44.0,\n",
       "  'duration': 34.0,\n",
       "  'rate': 88.0,\n",
       "  'down_payment': 49.0,\n",
       "  'EMI': -0.4}]"
      ]
     },
     "execution_count": 182,
     "metadata": {},
     "output_type": "execute_result"
    }
   ],
   "source": [
    "loans = computeEMI(loans)\n",
    "loans"
   ]
  },
  {
   "cell_type": "markdown",
   "metadata": {},
   "source": [
    "## Write to Files"
   ]
  },
  {
   "cell_type": "code",
   "execution_count": 183,
   "metadata": {},
   "outputs": [
    {
     "data": {
      "text/plain": [
       "[{'amount': 96.0,\n",
       "  'duration': 47.0,\n",
       "  'rate': 65.0,\n",
       "  'down_payment': 44.0,\n",
       "  'EMI': 3.07},\n",
       " {'amount': 40.0,\n",
       "  'duration': 90.0,\n",
       "  'rate': 0.0,\n",
       "  'down_payment': 9.0,\n",
       "  'EMI': 0.34},\n",
       " {'amount': 29.0,\n",
       "  'duration': 48.0,\n",
       "  'rate': 21.0,\n",
       "  'down_payment': 40.0,\n",
       "  'EMI': -0.34},\n",
       " {'amount': 57.0,\n",
       "  'duration': 32.0,\n",
       "  'rate': 14.0,\n",
       "  'down_payment': 2.0,\n",
       "  'EMI': 2.07},\n",
       " {'amount': 20.0,\n",
       "  'duration': 75.0,\n",
       "  'rate': 59.0,\n",
       "  'down_payment': 26.0,\n",
       "  'EMI': -0.3},\n",
       " {'amount': 35.0,\n",
       "  'duration': 64.0,\n",
       "  'rate': 57.0,\n",
       "  'down_payment': 69.0,\n",
       "  'EMI': -1.7},\n",
       " {'amount': 19.0,\n",
       "  'duration': 73.0,\n",
       "  'rate': 52.0,\n",
       "  'down_payment': 60.0,\n",
       "  'EMI': -1.86},\n",
       " {'amount': 0.0,\n",
       "  'duration': 26.0,\n",
       "  'rate': 53.0,\n",
       "  'down_payment': 88.0,\n",
       "  'EMI': -5.76},\n",
       " {'amount': 65.0,\n",
       "  'duration': 99.0,\n",
       "  'rate': 84.0,\n",
       "  'down_payment': 67.0,\n",
       "  'EMI': -0.14},\n",
       " {'amount': 89.0,\n",
       "  'duration': 13.0,\n",
       "  'rate': 49.0,\n",
       "  'down_payment': 73.0,\n",
       "  'EMI': 1.61},\n",
       " {'amount': 74.0,\n",
       "  'duration': 87.0,\n",
       "  'rate': 90.0,\n",
       "  'down_payment': 29.0,\n",
       "  'EMI': 3.38},\n",
       " {'amount': 25.0,\n",
       "  'duration': 56.0,\n",
       "  'rate': 55.0,\n",
       "  'down_payment': 6.0,\n",
       "  'EMI': 0.95},\n",
       " {'amount': 28.0,\n",
       "  'duration': 69.0,\n",
       "  'rate': 68.0,\n",
       "  'down_payment': 12.0,\n",
       "  'EMI': 0.93},\n",
       " {'amount': 30.0,\n",
       "  'duration': 5.0,\n",
       "  'rate': 79.0,\n",
       "  'down_payment': 54.0,\n",
       "  'EMI': -5.79},\n",
       " {'amount': 15.0,\n",
       "  'duration': 79.0,\n",
       "  'rate': 92.0,\n",
       "  'down_payment': 82.0,\n",
       "  'EMI': -5.15},\n",
       " {'amount': 92.0,\n",
       "  'duration': 7.0,\n",
       "  'rate': 72.0,\n",
       "  'down_payment': 96.0,\n",
       "  'EMI': -0.72},\n",
       " {'amount': 18.0,\n",
       "  'duration': 51.0,\n",
       "  'rate': 91.0,\n",
       "  'down_payment': 87.0,\n",
       "  'EMI': -5.36},\n",
       " {'amount': 61.0,\n",
       "  'duration': 97.0,\n",
       "  'rate': 99.0,\n",
       "  'down_payment': 16.0,\n",
       "  'EMI': 3.71},\n",
       " {'amount': 44.0,\n",
       "  'duration': 23.0,\n",
       "  'rate': 15.0,\n",
       "  'down_payment': 94.0,\n",
       "  'EMI': -2.51},\n",
       " {'amount': 63.0,\n",
       "  'duration': 78.0,\n",
       "  'rate': 10.0,\n",
       "  'down_payment': 31.0,\n",
       "  'EMI': 0.56},\n",
       " {'amount': 16.0,\n",
       "  'duration': 60.0,\n",
       "  'rate': 97.0,\n",
       "  'down_payment': 71.0,\n",
       "  'EMI': -4.49},\n",
       " {'amount': 54.0,\n",
       "  'duration': 10.0,\n",
       "  'rate': 47.0,\n",
       "  'down_payment': 95.0,\n",
       "  'EMI': -5.03},\n",
       " {'amount': 41.0,\n",
       "  'duration': 31.0,\n",
       "  'rate': 83.0,\n",
       "  'down_payment': 89.0,\n",
       "  'EMI': -3.8},\n",
       " {'amount': 67.0,\n",
       "  'duration': 6.0,\n",
       "  'rate': 22.0,\n",
       "  'down_payment': 28.0,\n",
       "  'EMI': 6.92},\n",
       " {'amount': 58.0,\n",
       "  'duration': 2.0,\n",
       "  'rate': 56.0,\n",
       "  'down_payment': 81.0,\n",
       "  'EMI': -12.31}]"
      ]
     },
     "execution_count": 183,
     "metadata": {},
     "output_type": "execute_result"
    }
   ],
   "source": [
    "getLoans = readFile(\"./data/sample-2.txt\")\n",
    "loans = computeEMI(getLoans)\n",
    "loans"
   ]
  },
  {
   "cell_type": "code",
   "execution_count": 184,
   "metadata": {},
   "outputs": [],
   "source": [
    "with open (\"./data/EMIs.txt\", \"w\") as f:\n",
    "    for loan in loans:\n",
    "        f.write(\"{}, {}, {}, {}, {}\\n\".format(\n",
    "            loan[\"amount\"],\n",
    "            loan[\"duration\"],\n",
    "            loan[\"rate\"],\n",
    "            loan[\"down_payment\"],\n",
    "            loan[\"EMI\"]\n",
    "        ))"
   ]
  },
  {
   "cell_type": "code",
   "execution_count": 185,
   "metadata": {},
   "outputs": [
    {
     "data": {
      "text/plain": [
       "['EMIs.txt', 'EMIs3.txt', 'sample-1.txt', 'sample-2.txt', 'sample-3.txt']"
      ]
     },
     "execution_count": 185,
     "metadata": {},
     "output_type": "execute_result"
    }
   ],
   "source": [
    "os.listdir(\"data\")"
   ]
  },
  {
   "cell_type": "code",
   "execution_count": 186,
   "metadata": {},
   "outputs": [
    {
     "name": "stdout",
     "output_type": "stream",
     "text": [
      "96.0, 47.0, 65.0, 44.0, 3.07\n",
      "40.0, 90.0, 0.0, 9.0, 0.34\n",
      "29.0, 48.0, 21.0, 40.0, -0.34\n",
      "57.0, 32.0, 14.0, 2.0, 2.07\n",
      "20.0, 75.0, 59.0, 26.0, -0.3\n",
      "35.0, 64.0, 57.0, 69.0, -1.7\n",
      "19.0, 73.0, 52.0, 60.0, -1.86\n",
      "0.0, 26.0, 53.0, 88.0, -5.76\n",
      "65.0, 99.0, 84.0, 67.0, -0.14\n",
      "89.0, 13.0, 49.0, 73.0, 1.61\n",
      "74.0, 87.0, 90.0, 29.0, 3.38\n",
      "25.0, 56.0, 55.0, 6.0, 0.95\n",
      "28.0, 69.0, 68.0, 12.0, 0.93\n",
      "30.0, 5.0, 79.0, 54.0, -5.79\n",
      "15.0, 79.0, 92.0, 82.0, -5.15\n",
      "92.0, 7.0, 72.0, 96.0, -0.72\n",
      "18.0, 51.0, 91.0, 87.0, -5.36\n",
      "61.0, 97.0, 99.0, 16.0, 3.71\n",
      "44.0, 23.0, 15.0, 94.0, -2.51\n",
      "63.0, 78.0, 10.0, 31.0, 0.56\n",
      "16.0, 60.0, 97.0, 71.0, -4.49\n",
      "54.0, 10.0, 47.0, 95.0, -5.03\n",
      "41.0, 31.0, 83.0, 89.0, -3.8\n",
      "67.0, 6.0, 22.0, 28.0, 6.92\n",
      "58.0, 2.0, 56.0, 81.0, -12.31\n",
      "\n"
     ]
    }
   ],
   "source": [
    "with open (\"./data/EMIs.txt\", \"r\") as file:\n",
    "    print(file.read())"
   ]
  },
  {
   "cell_type": "code",
   "execution_count": 188,
   "metadata": {},
   "outputs": [],
   "source": [
    "def write_csv(items, path):\n",
    "    with open(path, \"w\") as file:\n",
    "        if len(items)==0:\n",
    "            return\n",
    "        \n",
    "        #headers for the first line\n",
    "        headers= list(items[0].keys())\n",
    "        file.write(\",\".join(headers)+\"\\n\")\n",
    "        \n",
    "        #write one item by line\n",
    "        for item in items:\n",
    "            values=[]\n",
    "            for header in headers:\n",
    "                values.append(str(item.get(header, \"\")))\n",
    "            file.write(\",\".join(values)+\"\\n\")"
   ]
  },
  {
   "cell_type": "code",
   "execution_count": 189,
   "metadata": {},
   "outputs": [
    {
     "name": "stdout",
     "output_type": "stream",
     "text": [
      "amount,duration,rate,down_payment,EMI\n",
      "30.0,68.0,62.0,48.0,-0.96\n",
      "74.0,44.0,20.0,90.0,-0.52\n",
      "13.0,49.0,95.0,24.0,-0.89\n",
      "39.0,19.0,67.0,12.0,2.34\n",
      "11.0,62.0,68.0,66.0,-3.22\n",
      "20.0,4.0,60.0,23.0,-0.85\n",
      "57.0,99.0,52.0,88.0,-1.36\n",
      "51.0,35.0,46.0,2.0,2.57\n",
      "23.0,69.0,71.0,44.0,-1.27\n",
      "40.0,27.0,35.0,94.0,-2.92\n",
      "67.0,50.0,1.0,4.0,1.29\n",
      "5.0,34.0,77.0,81.0,-5.55\n",
      "8.0,96.0,10.0,84.0,-1.15\n",
      "65.0,15.0,63.0,49.0,1.57\n",
      "7.0,25.0,16.0,59.0,-2.46\n",
      "38.0,82.0,79.0,5.0,2.18\n",
      "37.0,46.0,34.0,47.0,-0.39\n",
      "6.0,80.0,58.0,38.0,-1.58\n",
      "31.0,48.0,36.0,41.0,-0.4\n",
      "72.0,92.0,89.0,97.0,-1.86\n",
      "2.0,29.0,15.0,75.0,-3.02\n",
      "28.0,26.0,28.0,56.0,-1.45\n",
      "93.0,76.0,78.0,92.0,0.07\n",
      "33.0,61.0,13.0,96.0,-1.42\n",
      "75.0,90.0,64.0,80.0,-0.27\n",
      "\n"
     ]
    }
   ],
   "source": [
    "getLoans = readFile(\"./data/sample-3.txt\")\n",
    "loans3 = computeEMI(getLoans)\n",
    "write_csv(loans3, \"./data/EMIs3.txt\")\n",
    "\n",
    "with open(\"./data/EMIs3.txt\", \"r\") as file:\n",
    "    print(file.read())"
   ]
  },
  {
   "cell_type": "markdown",
   "metadata": {},
   "source": [
    "### Generating EMIs file for the provided 3 sample files\n"
   ]
  },
  {
   "cell_type": "code",
   "execution_count": 190,
   "metadata": {},
   "outputs": [],
   "source": [
    "for i in range(1,4):\n",
    "    loans=readFile(\"./data/sample-{}.txt\".format(i))\n",
    "    computeEMI(loans)\n",
    "    write_csv(loans, \"./data/EMIs{}.txt\".format(i))"
   ]
  }
 ],
 "metadata": {
  "kernelspec": {
   "display_name": "Python 3",
   "language": "python",
   "name": "python3"
  },
  "language_info": {
   "codemirror_mode": {
    "name": "ipython",
    "version": 3
   },
   "file_extension": ".py",
   "mimetype": "text/x-python",
   "name": "python",
   "nbconvert_exporter": "python",
   "pygments_lexer": "ipython3",
   "version": "3.11.9"
  }
 },
 "nbformat": 4,
 "nbformat_minor": 2
}
