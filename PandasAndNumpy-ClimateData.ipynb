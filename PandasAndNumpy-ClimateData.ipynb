{
 "cells": [
  {
   "cell_type": "code",
   "execution_count": 1,
   "metadata": {},
   "outputs": [],
   "source": [
    "import numpy as np\n",
    "import urllib.request\n",
    "import pandas as pd"
   ]
  },
  {
   "cell_type": "code",
   "execution_count": 26,
   "metadata": {},
   "outputs": [],
   "source": [
    "kanta = [21, 12, 22]\n",
    "johta = [44, 65, 11]\n",
    "hoenn = [99, 6, 4]\n",
    "sinnoh = [47, 87, 5]\n",
    "unova = [12,76, 99]"
   ]
  },
  {
   "cell_type": "code",
   "execution_count": 27,
   "metadata": {},
   "outputs": [],
   "source": [
    "w1, w2, w3 = 0.3, 0.2, 0.5\n",
    "weight = [w1, w2, w3]"
   ]
  },
  {
   "cell_type": "code",
   "execution_count": 39,
   "metadata": {},
   "outputs": [
    {
     "name": "stdout",
     "output_type": "stream",
     "text": [
      "19.7\n"
     ]
    }
   ],
   "source": [
    "def crop_yield(region, weights):\n",
    "    result = 0\n",
    "    for x, w in zip(region, weights):\n",
    "        result += x * w\n",
    "    return result\n",
    "\n",
    "print(crop_yield(kanta, weight))  # Output: 32\n"
   ]
  },
  {
   "cell_type": "code",
   "execution_count": 37,
   "metadata": {},
   "outputs": [
    {
     "data": {
      "text/plain": [
       "numpy.ndarray"
      ]
     },
     "execution_count": 37,
     "metadata": {},
     "output_type": "execute_result"
    }
   ],
   "source": [
    "kanta = np.array(kanta)\n",
    "type(kanta)\n",
    "weight = np.array(weight)\n",
    "type(weight)"
   ]
  },
  {
   "cell_type": "code",
   "execution_count": 40,
   "metadata": {},
   "outputs": [
    {
     "data": {
      "text/plain": [
       "19.7"
      ]
     },
     "execution_count": 40,
     "metadata": {},
     "output_type": "execute_result"
    }
   ],
   "source": [
    "np.dot(kanta, weight)"
   ]
  },
  {
   "cell_type": "code",
   "execution_count": 42,
   "metadata": {},
   "outputs": [
    {
     "data": {
      "text/plain": [
       "19.7"
      ]
     },
     "execution_count": 42,
     "metadata": {},
     "output_type": "execute_result"
    }
   ],
   "source": [
    "(kanta* weight).sum()"
   ]
  },
  {
   "cell_type": "code",
   "execution_count": 44,
   "metadata": {},
   "outputs": [
    {
     "data": {
      "text/plain": [
       "array([[21, 12, 22],\n",
       "       [44, 65, 11],\n",
       "       [12, 76, 99],\n",
       "       [99,  6,  4],\n",
       "       [47, 87,  5]])"
      ]
     },
     "execution_count": 44,
     "metadata": {},
     "output_type": "execute_result"
    }
   ],
   "source": [
    "climateData= np.array([\n",
    "    [21, 12, 22], [44, 65, 11], [12,76, 99], [99, 6, 4], [47, 87, 5]\n",
    "])\n",
    "climateData"
   ]
  },
  {
   "cell_type": "code",
   "execution_count": 45,
   "metadata": {},
   "outputs": [
    {
     "data": {
      "text/plain": [
       "(5, 3)"
      ]
     },
     "execution_count": 45,
     "metadata": {},
     "output_type": "execute_result"
    }
   ],
   "source": [
    "climateData.shape"
   ]
  },
  {
   "cell_type": "code",
   "execution_count": 46,
   "metadata": {},
   "outputs": [
    {
     "data": {
      "text/plain": [
       "(3,)"
      ]
     },
     "execution_count": 46,
     "metadata": {},
     "output_type": "execute_result"
    }
   ],
   "source": [
    "weight.shape"
   ]
  },
  {
   "cell_type": "code",
   "execution_count": 47,
   "metadata": {},
   "outputs": [
    {
     "data": {
      "text/plain": [
       "dtype('int32')"
      ]
     },
     "execution_count": 47,
     "metadata": {},
     "output_type": "execute_result"
    }
   ],
   "source": [
    "climateData.dtype"
   ]
  },
  {
   "cell_type": "code",
   "execution_count": 48,
   "metadata": {},
   "outputs": [
    {
     "data": {
      "text/plain": [
       "dtype('float64')"
      ]
     },
     "execution_count": 48,
     "metadata": {},
     "output_type": "execute_result"
    }
   ],
   "source": [
    "weight.dtype"
   ]
  },
  {
   "cell_type": "code",
   "execution_count": 49,
   "metadata": {},
   "outputs": [
    {
     "data": {
      "text/plain": [
       "array([19.7, 31.7, 68.3, 32.9, 34. ])"
      ]
     },
     "execution_count": 49,
     "metadata": {},
     "output_type": "execute_result"
    }
   ],
   "source": [
    "np.matmul(climateData, weight)"
   ]
  },
  {
   "cell_type": "code",
   "execution_count": 51,
   "metadata": {},
   "outputs": [
    {
     "data": {
      "text/plain": [
       "array([19.7, 31.7, 68.3, 32.9, 34. ])"
      ]
     },
     "execution_count": 51,
     "metadata": {},
     "output_type": "execute_result"
    }
   ],
   "source": [
    "np.dot(climateData, weight)"
   ]
  },
  {
   "cell_type": "code",
   "execution_count": 82,
   "metadata": {},
   "outputs": [
    {
     "name": "stdout",
     "output_type": "stream",
     "text": [
      "   temprature  rainfall  humidity\n",
      "0        47.0      59.0      83.0\n",
      "1        49.0      18.0      10.0\n",
      "2        45.0      57.0      58.0\n",
      "3        87.0      65.0       5.0\n",
      "4        33.0      10.0      60.0\n"
     ]
    }
   ],
   "source": [
    "df = pd.read_csv(r\"C:\\Users\\Omen\\Downloads\\testResponse.csv\", delimiter=\";\")\n",
    "print(df.head())"
   ]
  },
  {
   "cell_type": "code",
   "execution_count": 92,
   "metadata": {},
   "outputs": [
    {
     "data": {
      "text/plain": [
       "(100, 3)"
      ]
     },
     "execution_count": 92,
     "metadata": {},
     "output_type": "execute_result"
    }
   ],
   "source": [
    "climateData=df.to_numpy()\n",
    "climateData.shape"
   ]
  },
  {
   "cell_type": "code",
   "execution_count": 93,
   "metadata": {},
   "outputs": [
    {
     "data": {
      "text/plain": [
       "(99, 3)"
      ]
     },
     "execution_count": 93,
     "metadata": {},
     "output_type": "execute_result"
    }
   ],
   "source": [
    "climateData=np.delete(climateData, 0, axis=0)\n",
    "climateData.shape"
   ]
  },
  {
   "cell_type": "code",
   "execution_count": 94,
   "metadata": {},
   "outputs": [
    {
     "data": {
      "text/plain": [
       "array([23.3, 53.9, 41.6, 41.9, 30.5, 73. , 61.3, 58.4, 40.6, 19.9, 58.7,\n",
       "       57.5, 30.1, 66.4, 44.4, 49.8, 66.3, 54.2, 70.7, 89.4, 35.8, 33.4,\n",
       "       24.2, 72.7, 70.2, 36. , 36.5, 65.4, 60.2, 40.9, 55.9, 39. , 33.2,\n",
       "       66.1, 78.9, 64.2, 53.4, 50.8, 17.9, 41.6, 26.1, 35.9, 80.4, 61. ,\n",
       "       45. , 76.9, 42.6, 30.8, 47.1, 65.3, 34.4, 42.5, 27.7, 47.6, 39.6,\n",
       "       68.3, 49.3, 32.1, 71.8, 70.8, 36.6, 14.4, 79.8, 46. , 29. , 31.5,\n",
       "       74.7, 73.4, 80.4, 59.9, 26.2, 43.7, 36.1, 76.6, 35.6, 66.6, 46.2,\n",
       "       25.5, 58.7, 54.9, 32.8, 61.3, 57.2, 50. , 52.7, 14.1, 31.4, 45.2,\n",
       "       37.5, 25.5, 36.3, 43.9, 67.7, 46.7, 55.1, 55.2, 55.7, 60.4, 54.7])"
      ]
     },
     "execution_count": 94,
     "metadata": {},
     "output_type": "execute_result"
    }
   ],
   "source": [
    "yields = climateData@weight\n",
    "yields"
   ]
  },
  {
   "cell_type": "code",
   "execution_count": 95,
   "metadata": {},
   "outputs": [
    {
     "data": {
      "text/plain": [
       "(99,)"
      ]
     },
     "execution_count": 95,
     "metadata": {},
     "output_type": "execute_result"
    }
   ],
   "source": [
    "yields.shape"
   ]
  },
  {
   "cell_type": "code",
   "execution_count": 97,
   "metadata": {},
   "outputs": [
    {
     "data": {
      "text/plain": [
       "array([[49. , 18. , 10. , 23.3],\n",
       "       [45. , 57. , 58. , 53.9],\n",
       "       [87. , 65. ,  5. , 41.6],\n",
       "       [33. , 10. , 60. , 41.9],\n",
       "       [ 6. , 81. , 25. , 30.5],\n",
       "       [70. , 45. , 86. , 73. ],\n",
       "       [32. , 61. , 79. , 61.3],\n",
       "       [20. , 17. , 98. , 58.4],\n",
       "       [85. , 73. ,  1. , 40.6],\n",
       "       [ 1. , 58. , 16. , 19.9],\n",
       "       [74. , 85. , 39. , 58.7],\n",
       "       [88. , 38. , 47. , 57.5],\n",
       "       [27. ,  5. , 42. , 30.1],\n",
       "       [39. , 31. , 97. , 66.4],\n",
       "       [93. , 40. , 17. , 44.4],\n",
       "       [62. , 66. , 36. , 49.8],\n",
       "       [12. , 91. , 89. , 66.3],\n",
       "       [97. , 13. , 45. , 54.2],\n",
       "       [86. , 37. , 75. , 70.7],\n",
       "       [91. , 93. , 87. , 89.4],\n",
       "       [18. , 92. , 24. , 35.8],\n",
       "       [26. , 33. , 38. , 33.4],\n",
       "       [ 7. , 88. ,  9. , 24.2],\n",
       "       [56. , 32. , 99. , 72.7],\n",
       "       [78. , 29. , 82. , 70.2],\n",
       "       [15. , 75. , 33. , 36. ],\n",
       "       [34. , 39. , 37. , 36.5],\n",
       "       [35. , 82. , 77. , 65.4],\n",
       "       [ 8. , 49. , 96. , 60.2],\n",
       "       [68. , 15. , 35. , 40.9],\n",
       "       [61. , 28. , 64. , 55.9],\n",
       "       [25. ,  0. , 63. , 39. ],\n",
       "       [73. ,  4. , 21. , 33.2],\n",
       "       [55. , 23. , 90. , 66.1],\n",
       "       [54. , 86. , 91. , 78.9],\n",
       "       [96. , 22. , 62. , 64.2],\n",
       "       [77. ,  9. , 57. , 53.4],\n",
       "       [69. , 83. , 27. , 50.8],\n",
       "       [24. ,  6. , 19. , 17.9],\n",
       "       [71. , 94. ,  3. , 41.6],\n",
       "       [46. , 34. , 11. , 26.1],\n",
       "       [ 4. , 11. , 65. , 35.9],\n",
       "       [89. , 56. , 85. , 80.4],\n",
       "       [59. , 79. , 55. , 61. ],\n",
       "       [28. , 43. , 56. , 45. ],\n",
       "       [63. , 80. , 84. , 76.9],\n",
       "       [66. , 69. , 18. , 42.6],\n",
       "       [29. ,  8. , 41. , 30.8],\n",
       "       [79. , 67. , 20. , 47.1],\n",
       "       [84. , 78. , 49. , 65.3],\n",
       "       [52. , 84. ,  4. , 34.4],\n",
       "       [80. , 60. , 13. , 42.5],\n",
       "       [11. , 52. , 28. , 27.7],\n",
       "       [43. , 26. , 59. , 47.6],\n",
       "       [60. , 53. , 22. , 39.6],\n",
       "       [95. , 64. , 54. , 68.3],\n",
       "       [94. , 48. , 23. , 49.3],\n",
       "       [42. , 25. , 29. , 32.1],\n",
       "       [72. , 51. , 80. , 71.8],\n",
       "       [48. , 97. , 74. , 70.8],\n",
       "       [ 3. , 71. , 43. , 36.6],\n",
       "       [13. , 35. ,  7. , 14.4],\n",
       "       [44. , 98. , 94. , 79.8],\n",
       "       [21. , 21. , 71. , 46. ],\n",
       "       [50. , 70. ,  0. , 29. ],\n",
       "       [ 5. , 20. , 52. , 31.5],\n",
       "       [81. , 62. , 76. , 74.7],\n",
       "       [41. , 68. , 95. , 73.4],\n",
       "       [53. , 90. , 93. , 80.4],\n",
       "       [82. , 99. , 31. , 59.9],\n",
       "       [38. , 44. , 12. , 26.2],\n",
       "       [67. ,  3. , 46. , 43.7],\n",
       "       [14. ,  7. , 61. , 36.1],\n",
       "       [57. , 95. , 81. , 76.6],\n",
       "       [58. , 76. ,  6. , 35.6],\n",
       "       [64. , 72. , 66. , 66.6],\n",
       "       [ 9. , 50. , 67. , 46.2],\n",
       "       [17. ,  2. , 40. , 25.5],\n",
       "       [16. , 87. , 73. , 58.7],\n",
       "       [99. , 16. , 44. , 54.9],\n",
       "       [ 2. , 96. , 26. , 32.8],\n",
       "       [65. , 89. , 48. , 61.3],\n",
       "       [30. , 46. , 78. , 57.2],\n",
       "       [92. , 27. , 34. , 50. ],\n",
       "       [51. , 12. , 70. , 52.7],\n",
       "       [31. , 19. ,  2. , 14.1],\n",
       "       [ 0. , 77. , 32. , 31.4],\n",
       "       [10. , 41. , 68. , 45.2],\n",
       "       [75. , 55. ,  8. , 37.5],\n",
       "       [19. , 24. , 30. , 25.5],\n",
       "       [76. , 30. , 15. , 36.3],\n",
       "       [22. , 54. , 53. , 43.9],\n",
       "       [37. , 63. , 88. , 67.7],\n",
       "       [83. , 74. , 14. , 46.7],\n",
       "       [98. ,  1. , 51. , 55.1],\n",
       "       [40. , 36. , 72. , 55.2],\n",
       "       [23. , 14. , 92. , 55.7],\n",
       "       [90. , 42. , 50. , 60.4],\n",
       "       [36. , 47. , 69. , 54.7]])"
      ]
     },
     "execution_count": 97,
     "metadata": {},
     "output_type": "execute_result"
    }
   ],
   "source": [
    "climateResult = np.concatenate((climateData, yields.reshape(99, 1)), axis=1)\n",
    "climateResult"
   ]
  },
  {
   "cell_type": "code",
   "execution_count": 106,
   "metadata": {},
   "outputs": [],
   "source": [
    "np.savetxt(\"climateResult.txt\", climateResult, \n",
    "           fmt=\"%.2f\",\n",
    "           header=\"temperature,rainfall,humidity, yeild_apples\",\n",
    "           comments=\"important comment\\n\")"
   ]
  },
  {
   "cell_type": "code",
   "execution_count": 113,
   "metadata": {},
   "outputs": [
    {
     "data": {
      "text/plain": [
       "array([[ 2, 25,  5],\n",
       "       [ 3, 25, 36],\n",
       "       [12, 26,  3]])"
      ]
     },
     "execution_count": 113,
     "metadata": {},
     "output_type": "execute_result"
    }
   ],
   "source": [
    "arr1=np.array([[1,2 ,3], [2,2, 34], [11, 3, 1]])\n",
    "arr2=np.array([1, 23, 2])\n",
    "arr1+arr2"
   ]
  },
  {
   "cell_type": "code",
   "execution_count": 116,
   "metadata": {},
   "outputs": [
    {
     "data": {
      "text/plain": [
       "array([[ True, False, False],\n",
       "       [False, False, False],\n",
       "       [False, False, False]])"
      ]
     },
     "execution_count": 116,
     "metadata": {},
     "output_type": "execute_result"
    }
   ],
   "source": [
    "arr1==arr2"
   ]
  },
  {
   "cell_type": "code",
   "execution_count": 119,
   "metadata": {},
   "outputs": [
    {
     "data": {
      "text/plain": [
       "array([[34],\n",
       "       [ 1]])"
      ]
     },
     "execution_count": 119,
     "metadata": {},
     "output_type": "execute_result"
    }
   ],
   "source": [
    "arr3 = arr1[1:, 2:3]\n",
    "arr3"
   ]
  },
  {
   "cell_type": "code",
   "execution_count": 120,
   "metadata": {},
   "outputs": [
    {
     "data": {
      "text/plain": [
       "array([[0., 0., 0., 0.],\n",
       "       [0., 0., 0., 0.],\n",
       "       [0., 0., 0., 0.]])"
      ]
     },
     "execution_count": 120,
     "metadata": {},
     "output_type": "execute_result"
    }
   ],
   "source": [
    "np.zeros((3, 4))"
   ]
  },
  {
   "cell_type": "code",
   "execution_count": 122,
   "metadata": {},
   "outputs": [
    {
     "data": {
      "text/plain": [
       "array([[[1., 1., 1.],\n",
       "        [1., 1., 1.],\n",
       "        [1., 1., 1.],\n",
       "        [1., 1., 1.],\n",
       "        [1., 1., 1.],\n",
       "        [1., 1., 1.],\n",
       "        [1., 1., 1.],\n",
       "        [1., 1., 1.],\n",
       "        [1., 1., 1.],\n",
       "        [1., 1., 1.]]])"
      ]
     },
     "execution_count": 122,
     "metadata": {},
     "output_type": "execute_result"
    }
   ],
   "source": [
    "np.ones([1, 10, 3])"
   ]
  },
  {
   "cell_type": "code",
   "execution_count": 124,
   "metadata": {},
   "outputs": [
    {
     "data": {
      "text/plain": [
       "array([[[[0.26723468],\n",
       "         [0.03869189],\n",
       "         [0.7641504 ]],\n",
       "\n",
       "        [[0.40779399],\n",
       "         [0.83601395],\n",
       "         [0.04307978]]],\n",
       "\n",
       "\n",
       "       [[[0.55325519],\n",
       "         [0.38573054],\n",
       "         [0.94577144]],\n",
       "\n",
       "        [[0.81602692],\n",
       "         [0.87081167],\n",
       "         [0.92754588]]]])"
      ]
     },
     "execution_count": 124,
     "metadata": {},
     "output_type": "execute_result"
    }
   ],
   "source": [
    "np.random.rand(2, 2, 3, 1)"
   ]
  },
  {
   "cell_type": "code",
   "execution_count": 125,
   "metadata": {},
   "outputs": [
    {
     "data": {
      "text/plain": [
       "array([10, 15, 20, 25, 30, 35, 40])"
      ]
     },
     "execution_count": 125,
     "metadata": {},
     "output_type": "execute_result"
    }
   ],
   "source": [
    "np.arange(10, 45, 5)"
   ]
  },
  {
   "cell_type": "code",
   "execution_count": 130,
   "metadata": {},
   "outputs": [
    {
     "data": {
      "text/plain": [
       "array([[[10, 15],\n",
       "        [20, 25]],\n",
       "\n",
       "       [[30, 35],\n",
       "        [40, 45]],\n",
       "\n",
       "       [[50, 55],\n",
       "        [60, 65]]])"
      ]
     },
     "execution_count": 130,
     "metadata": {},
     "output_type": "execute_result"
    }
   ],
   "source": [
    "np.arange(10, 70, 5).reshape(3,2,2)"
   ]
  },
  {
   "cell_type": "code",
   "execution_count": 135,
   "metadata": {},
   "outputs": [
    {
     "data": {
      "text/plain": [
       "array([ 2.        ,  2.66666667,  3.33333333,  4.        ,  4.66666667,\n",
       "        5.33333333,  6.        ,  6.66666667,  7.33333333,  8.        ,\n",
       "        8.66666667,  9.33333333, 10.        ])"
      ]
     },
     "execution_count": 135,
     "metadata": {},
     "output_type": "execute_result"
    }
   ],
   "source": [
    "np.linspace(2, 10, 13)"
   ]
  }
 ],
 "metadata": {
  "kernelspec": {
   "display_name": "Python 3",
   "language": "python",
   "name": "python3"
  },
  "language_info": {
   "codemirror_mode": {
    "name": "ipython",
    "version": 3
   },
   "file_extension": ".py",
   "mimetype": "text/x-python",
   "name": "python",
   "nbconvert_exporter": "python",
   "pygments_lexer": "ipython3",
   "version": "3.11.9"
  }
 },
 "nbformat": 4,
 "nbformat_minor": 2
}
