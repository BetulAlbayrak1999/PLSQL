{
 "cells": [
  {
   "cell_type": "code",
   "execution_count": 37,
   "metadata": {},
   "outputs": [],
   "source": [
    "import pandas as pd\n",
    "import numpy as np\n",
    "import os"
   ]
  },
  {
   "cell_type": "code",
   "execution_count": null,
   "metadata": {},
   "outputs": [],
   "source": [
    "survey_df = pd.read_csv(r\"C:\\Users\\Omen\\Documents\\python for Data Engineer\\survey_results_public.csv\")\n",
    "survey_df\n"
   ]
  },
  {
   "cell_type": "code",
   "execution_count": null,
   "metadata": {},
   "outputs": [],
   "source": [
    "survey_df.columns"
   ]
  },
  {
   "cell_type": "code",
   "execution_count": null,
   "metadata": {},
   "outputs": [],
   "source": [
    "survey_schema_df = pd.read_csv(r\"C:\\Users\\Omen\\Documents\\python for Data Engineer\\survey_results_schema.csv\")\n",
    "survey_schema_df\n"
   ]
  },
  {
   "cell_type": "code",
   "execution_count": null,
   "metadata": {},
   "outputs": [],
   "source": [
    "schema_raw= pd.read_csv(r\"C:\\Users\\Omen\\Documents\\python for Data Engineer\\survey_results_schema.csv\", index_col=\"Column\").QuestionText\n",
    "schema_raw"
   ]
  },
  {
   "cell_type": "code",
   "execution_count": null,
   "metadata": {},
   "outputs": [],
   "source": [
    "schema_raw[\"YearsCodePro\"]"
   ]
  },
  {
   "cell_type": "markdown",
   "metadata": {},
   "source": [
    "Data Preparation and Cleaning"
   ]
  },
  {
   "cell_type": "code",
   "execution_count": null,
   "metadata": {},
   "outputs": [],
   "source": [
    "survey_df.columns"
   ]
  },
  {
   "cell_type": "code",
   "execution_count": 23,
   "metadata": {},
   "outputs": [],
   "source": [
    "selected_columns=[\n",
    "    \"Country\",\n",
    "    \"Age\",\n",
    "    \"Gender\",\n",
    "    \"EdLevel\",\n",
    "    \"UndergradMajor\",\n",
    "    #Programing experience\n",
    "    \"Hobbyist\",\n",
    "    \"Age1stCode\",\n",
    "    \"YearsCode\",\n",
    "    \"YearsCodePro\",\n",
    "    \"LanguageWorkedWith\",\n",
    "    \"LanguageDesireNextYear\",\n",
    "    \"NEWLearn\",\n",
    "    \"NEWStuck\",\n",
    "    #Employment\n",
    "    \"Employment\",\n",
    "    \"DevType\",\n",
    "    \"WorkWeekHrs\",\n",
    "    \"JobSat\",\n",
    "    \"JobFactors\",\n",
    "    \"NEWOvertime\",\n",
    "    \"NEWEdImpt\"\n",
    "]"
   ]
  },
  {
   "cell_type": "code",
   "execution_count": null,
   "metadata": {},
   "outputs": [],
   "source": [
    "len(selected_columns)"
   ]
  },
  {
   "cell_type": "code",
   "execution_count": null,
   "metadata": {},
   "outputs": [],
   "source": [
    "survey_copy_df=survey_df[selected_columns].copy()\n",
    "survey_copy_df"
   ]
  },
  {
   "cell_type": "code",
   "execution_count": null,
   "metadata": {},
   "outputs": [],
   "source": [
    "schema_copy =schema_raw[selected_columns]\n",
    "schema_copy"
   ]
  },
  {
   "cell_type": "code",
   "execution_count": null,
   "metadata": {},
   "outputs": [],
   "source": [
    "survey_copy_df.shape"
   ]
  },
  {
   "cell_type": "code",
   "execution_count": null,
   "metadata": {},
   "outputs": [],
   "source": [
    "survey_copy_df.info()"
   ]
  },
  {
   "cell_type": "code",
   "execution_count": null,
   "metadata": {},
   "outputs": [],
   "source": [
    "schema_copy.Age1stCode"
   ]
  },
  {
   "cell_type": "code",
   "execution_count": null,
   "metadata": {},
   "outputs": [],
   "source": [
    "survey_copy_df.Age1stCode.unique()"
   ]
  },
  {
   "cell_type": "code",
   "execution_count": 33,
   "metadata": {},
   "outputs": [],
   "source": [
    "survey_copy_df[\"Age1sfCode\"]=pd.to_numeric(survey_copy_df.Age1stCode, errors=\"coerce\")\n",
    "survey_copy_df[\"YearsCOde\"]=pd.to_numeric(survey_copy_df.YearsCode, errors=\"coerce\")\n",
    "survey_copy_df[\"YearsCodePro\"]=pd.to_numeric(survey_copy_df.YearsCodePro, errors=\"coerce\")\n"
   ]
  },
  {
   "cell_type": "code",
   "execution_count": null,
   "metadata": {},
   "outputs": [],
   "source": [
    "survey_copy_df.describe()"
   ]
  },
  {
   "cell_type": "markdown",
   "metadata": {},
   "source": [
    "there seems to be a problem with the age column, as the min value is 1 and the max value is 279. So, we will drop rows that has age younger than 10 and older than 100."
   ]
  },
  {
   "cell_type": "code",
   "execution_count": 35,
   "metadata": {},
   "outputs": [],
   "source": [
    "survey_copy_df.drop(survey_copy_df[survey_copy_df.Age<10].index, inplace=True)\n",
    "survey_copy_df.drop(survey_copy_df[survey_copy_df.Age>100].index, inplace=True) "
   ]
  },
  {
   "cell_type": "markdown",
   "metadata": {},
   "source": [
    "The same hold true for WorkWeekHrs. Let's ignore enteries where the value for the column is highr than 140 hours. (~20 hours per day)"
   ]
  },
  {
   "cell_type": "code",
   "execution_count": 36,
   "metadata": {},
   "outputs": [],
   "source": [
    "survey_copy_df.drop(survey_copy_df[survey_copy_df.WorkWeekHrs>140].index, inplace=True)"
   ]
  },
  {
   "cell_type": "code",
   "execution_count": null,
   "metadata": {},
   "outputs": [],
   "source": [
    "survey_copy_df.Gender.value_counts()"
   ]
  },
  {
   "cell_type": "code",
   "execution_count": 39,
   "metadata": {},
   "outputs": [],
   "source": [
    "survey_copy_df.where(~(survey_copy_df.Gender.str.contains(\";\", na=False)), np.nan, inplace=True)"
   ]
  },
  {
   "cell_type": "code",
   "execution_count": null,
   "metadata": {},
   "outputs": [],
   "source": [
    "survey_copy_df.Gender.value_counts()"
   ]
  },
  {
   "cell_type": "code",
   "execution_count": null,
   "metadata": {},
   "outputs": [],
   "source": [
    "survey_copy_df.sample(10)"
   ]
  },
  {
   "cell_type": "code",
   "execution_count": null,
   "metadata": {},
   "outputs": [],
   "source": []
  }
 ],
 "metadata": {
  "kernelspec": {
   "display_name": "Python 3",
   "language": "python",
   "name": "python3"
  },
  "language_info": {
   "codemirror_mode": {
    "name": "ipython",
    "version": 3
   },
   "file_extension": ".py",
   "mimetype": "text/x-python",
   "name": "python",
   "nbconvert_exporter": "python",
   "pygments_lexer": "ipython3",
   "version": "3.11.9"
  }
 },
 "nbformat": 4,
 "nbformat_minor": 2
}
